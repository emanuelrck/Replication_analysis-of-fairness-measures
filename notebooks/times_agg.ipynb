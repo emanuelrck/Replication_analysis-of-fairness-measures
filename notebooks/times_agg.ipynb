{
 "cells": [
  {
   "cell_type": "code",
   "execution_count": 1,
   "id": "initial_id",
   "metadata": {
    "ExecuteTime": {
     "end_time": "2024-02-07T11:54:40.903791Z",
     "start_time": "2024-02-07T11:54:40.899621Z"
    },
    "collapsed": true
   },
   "outputs": [],
   "source": [
    "import os\n",
    "from os import path\n",
    "import re\n",
    "import warnings\n",
    "\n",
    "import matplotlib.pyplot as plt\n",
    "import pandas as pd\n",
    "\n",
    "warnings.filterwarnings('ignore')\n",
    "plt.style.use('default')"
   ]
  },
  {
   "cell_type": "code",
   "execution_count": 2,
   "id": "5c99daaad07ab4a",
   "metadata": {
    "ExecuteTime": {
     "end_time": "2024-02-07T11:57:57.355499Z",
     "start_time": "2024-02-07T11:57:57.352602Z"
    },
    "collapsed": false
   },
   "outputs": [],
   "source": [
    "sample_size = 56\n",
    "\n",
    "timer_dir = path.join('out', 'time')\n",
    "plots_dir = os.path.join('out', 'plots', 'case_study', 'census_income')\n",
    "calculations_dir = path.join('out', 'calculations', f'n{sample_size}')"
   ]
  },
  {
   "cell_type": "code",
   "execution_count": 3,
   "id": "ce965adebf650345",
   "metadata": {
    "ExecuteTime": {
     "end_time": "2024-02-07T12:07:35.907849Z",
     "start_time": "2024-02-07T12:07:35.904028Z"
    },
    "collapsed": false
   },
   "outputs": [],
   "source": [
    "def get_execution_stats(df, fn):\n",
    "    print(df.head(3))\n",
    "    df['item'] = df['item'].apply(lambda x: re.subn(r'\\d', '', x)[0] \\\n",
    "                                  .replace('_j', '_i').replace('_i', '') \\\n",
    "                                  .replace('j_', 'i_').replace('i_', '') \\\n",
    "                                  .replace('gr=. ir=. ', '').replace(' ε=', ''))\n",
    "\n",
    "    dfgb = df.groupby('item')\n",
    "    print('=== ===')\n",
    "    print(dfgb.groups.keys())\n",
    "\n",
    "    stats_df = dfgb.agg(['min', 'max', 'mean', 'std', 'count'])\n",
    "    stats_df.to_csv(os.path.join(timer_dir, f'execution_stats_{fn}'))"
   ]
  },
  {
   "cell_type": "code",
   "execution_count": 4,
   "id": "37eb62085278e888",
   "metadata": {
    "ExecuteTime": {
     "end_time": "2024-02-07T12:29:37.936917Z",
     "start_time": "2024-02-07T12:29:37.843881Z"
    },
    "collapsed": false
   },
   "outputs": [],
   "source": [
    "for fn in os.listdir(timer_dir):\n",
    "    if not fn.endswith('.csv') or fn.startswith('execution_stats'):\n",
    "        continue\n",
    "    print(fn)\n",
    "    with open(os.path.join(timer_dir, fn), 'r') as f:\n",
    "        df = pd.read_csv(f, header=0, names=['item', 'time'])\n",
    "    stats = get_execution_stats(df, fn)\n",
    "    print(stats)\n",
    "    print('\\n')"
   ]
  },
  {
   "cell_type": "code",
   "execution_count": null,
   "id": "c30bc431083c55e4",
   "metadata": {
    "collapsed": false
   },
   "outputs": [],
   "source": []
  }
 ],
 "metadata": {
  "kernelspec": {
   "display_name": "Python 3",
   "language": "python",
   "name": "python3"
  },
  "language_info": {
   "codemirror_mode": {
    "name": "ipython",
    "version": 3
   },
   "file_extension": ".py",
   "mimetype": "text/x-python",
   "name": "python",
   "nbconvert_exporter": "python",
   "pygments_lexer": "ipython3",
   "version": "3.10.14"
  }
 },
 "nbformat": 4,
 "nbformat_minor": 5
}
